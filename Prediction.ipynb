{
 "cells": [
  {
   "cell_type": "code",
   "execution_count": 6,
   "id": "9d35c098-c945-4463-97d8-2641873b0e08",
   "metadata": {},
   "outputs": [],
   "source": [
    "import pandas as pd\n",
    "import numpy as np\n",
    "import pickle"
   ]
  },
  {
   "cell_type": "code",
   "execution_count": 7,
   "id": "dcdebf5c-161a-4766-8dce-39f855610a7d",
   "metadata": {},
   "outputs": [],
   "source": [
    "final_model = pickle.load(open('Yield_prediction.pk1', 'rb'))"
   ]
  },
  {
   "cell_type": "code",
   "execution_count": 8,
   "id": "ccc6b8d6-7c5d-47de-b06d-29ac5524c851",
   "metadata": {},
   "outputs": [],
   "source": [
    "test_input = pd.DataFrame([\n",
    "    ['Karnataka', 'Wheat', 'Rabi', 200, 750, 28, 65, 7.0, 0.25, 0.15, 0.20, 'Loamy']  # Replace with your test values\n",
    "], columns=[\n",
    "    'State',\n",
    "    'Crop',\n",
    "    'Season',\n",
    "    'Area',\n",
    "    'Annual_Rainfall',\n",
    "    'temperature',\n",
    "    'humidity',\n",
    "    'ph',\t\n",
    "    'N_percent',\n",
    "    'P_percent',\n",
    "    'K_percent',\t\n",
    "    'Soil_Type'\n",
    "])\n"
   ]
  },
  {
   "cell_type": "code",
   "execution_count": 9,
   "id": "114c0402-7a22-42d8-9565-2f7888e4b99a",
   "metadata": {},
   "outputs": [
    {
     "name": "stdout",
     "output_type": "stream",
     "text": [
      "                              0\n",
      "Yield                  0.736800\n",
      "total_yield          162.096000\n",
      "Fertilizer_per_ha    117.982979\n",
      "Pesticide_per_ha       0.213863\n",
      "Fertilizer         25956.255309\n",
      "Pesticide             47.049944\n"
     ]
    }
   ],
   "source": [
    "# Create final DataFrame with predicted + calculated totals\n",
    "allocation_columns = [\n",
    "    'Yield', \n",
    "    'total_yield', \n",
    "    'Fertilizer_per_ha',\n",
    "    'Pesticide_per_ha', \n",
    "    'Fertilizer', \n",
    "    'Pesticide'\n",
    "]\n",
    "\n",
    "y_pred=final_model.predict(test_input)\n",
    "y_pred_named = pd.DataFrame(y_pred, columns=allocation_columns)\n",
    "\n",
    "area = test_input['Area'].values[0]\n",
    "\n",
    "# Total Yield, Fertilizer, and Pesticide\n",
    "y_pred_named['total_yield'] = y_pred_named['Yield'] * area * 1.10\n",
    "y_pred_named['Fertilizer'] = y_pred_named['Fertilizer_per_ha'] * area * 1.10\n",
    "y_pred_named['Pesticide'] = y_pred_named['Pesticide_per_ha'] * area * 1.10\n",
    "# Show as vertical list\n",
    "print(y_pred_named.T)\n"
   ]
  },
  {
   "cell_type": "code",
   "execution_count": null,
   "id": "bd18d5a4-4562-4991-96bd-5ee106e93b24",
   "metadata": {},
   "outputs": [],
   "source": []
  }
 ],
 "metadata": {
  "kernelspec": {
   "display_name": "Python 3 (ipykernel)",
   "language": "python",
   "name": "python3"
  },
  "language_info": {
   "codemirror_mode": {
    "name": "ipython",
    "version": 3
   },
   "file_extension": ".py",
   "mimetype": "text/x-python",
   "name": "python",
   "nbconvert_exporter": "python",
   "pygments_lexer": "ipython3",
   "version": "3.12.7"
  }
 },
 "nbformat": 4,
 "nbformat_minor": 5
}
